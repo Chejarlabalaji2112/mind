{
 "cells": [
  {
   "cell_type": "code",
   "execution_count": 1,
   "id": "54cfaac7",
   "metadata": {},
   "outputs": [
    {
     "name": "stdout",
     "output_type": "stream",
     "text": [
      "Note: you may need to restart the kernel to use updated packages.\n"
     ]
    }
   ],
   "source": [
    "%pip install -qU langchain-ollama"
   ]
  },
  {
   "cell_type": "code",
   "execution_count": 3,
   "id": "c1f811a3",
   "metadata": {},
   "outputs": [
    {
     "name": "stderr",
     "output_type": "stream",
     "text": [
      "/home/badri/miniconda3/envs/hitomi/lib/python3.13/site-packages/tqdm/auto.py:21: TqdmWarning: IProgress not found. Please update jupyter and ipywidgets. See https://ipywidgets.readthedocs.io/en/stable/user_install.html\n",
      "  from .autonotebook import tqdm as notebook_tqdm\n"
     ]
    }
   ],
   "source": [
    "from langchain_ollama import ChatOllama\n",
    "\n",
    "llm = ChatOllama(\n",
    "    model=\"smollm2\",\n",
    "    temperatur=0,\n",
    ")"
   ]
  },
  {
   "cell_type": "code",
   "execution_count": 7,
   "id": "3c87bdfa",
   "metadata": {},
   "outputs": [
    {
     "data": {
      "text/plain": [
       "AIMessage(content=\"Hugging Face, Ola Maani, LangChain, and LangGraph are all related to artificial intelligence (AI) and natural language processing (NLP), specifically focusing on NLP-related tools and technologies. Here's a brief overview of each:\\n\\n1. Hugging Face: Hugging Face is an open-source community that provides pre-trained models for various machine learning tasks, including NLP. They also provide a platform to build your own custom transformer models using their Pretrained Model Hub, which contains a large collection of pre-trained model checkpoints from various research papers and datasets.\\n\\n2. Ola Maani: Ola Maani is an open-source AI toolkit developed by Google, primarily for Python but supporting other languages like Java, C++, and Go. It provides tools for building, training, and deploying machine learning models using pre-trained models or custom implementations. Ola Maani includes features such as data loading and preprocessing, model evaluation, and distributed computing.\\n\\n3. LangChain: LangChain is an open-source NLP framework developed by OpenAI. It is based on the transformer architecture and focuses on chaining together multiple language models to perform complex tasks such as question answering, text summarization, translation, and dialogue systems. LangChain supports a wide range of languages and has been successfully used in various applications across industries.\\n\\n4. LangGraph: LangGraph is an open-source research project focused on graph neural networks (GNNs) for natural language processing tasks. GNNs are a type of deep learning model specifically designed to process graph data structures, which can be useful for modeling complex relationships between words in a sentence or text data. The LangGraph framework provides tools and resources for building and training GNN models on various NLP datasets.\\n\\nIn summary, Hugging Face is an AI platform, Ola Maani is an open-source AI toolkit, LangChain is an open-source NLP framework, and LangGraph is a research project focused on graph neural networks in NLP.\", additional_kwargs={}, response_metadata={'model': 'smollm2', 'created_at': '2025-09-27T10:12:44.879768781Z', 'done': True, 'done_reason': 'stop', 'total_duration': 24403172085, 'load_duration': 51343547, 'prompt_eval_count': 34, 'prompt_eval_duration': 544072992, 'eval_count': 410, 'eval_duration': 23805767458, 'model_name': 'smollm2'}, id='run--3c2bc8b3-97f5-48a4-ab95-ea7c09252d99-0', usage_metadata={'input_tokens': 34, 'output_tokens': 410, 'total_tokens': 444})"
      ]
     },
     "execution_count": 7,
     "metadata": {},
     "output_type": "execute_result"
    }
   ],
   "source": [
    "messages = [\n",
    "    (\n",
    "        \"system\",\n",
    "        \"You are a helpful assistant.\",\n",
    "    ),\n",
    "    (\"human\", \"what is huggingface and ollama and langchain and langgraph\"),\n",
    "]\n",
    "ai_msg = llm.invoke(messages)\n",
    "ai_msg"
   ]
  },
  {
   "cell_type": "code",
   "execution_count": 8,
   "id": "097d961c",
   "metadata": {},
   "outputs": [
    {
     "name": "stdout",
     "output_type": "stream",
     "text": [
      "Hugging Face, Ola Maani, LangChain, and LangGraph are all related to artificial intelligence (AI) and natural language processing (NLP), specifically focusing on NLP-related tools and technologies. Here's a brief overview of each:\n",
      "\n",
      "1. Hugging Face: Hugging Face is an open-source community that provides pre-trained models for various machine learning tasks, including NLP. They also provide a platform to build your own custom transformer models using their Pretrained Model Hub, which contains a large collection of pre-trained model checkpoints from various research papers and datasets.\n",
      "\n",
      "2. Ola Maani: Ola Maani is an open-source AI toolkit developed by Google, primarily for Python but supporting other languages like Java, C++, and Go. It provides tools for building, training, and deploying machine learning models using pre-trained models or custom implementations. Ola Maani includes features such as data loading and preprocessing, model evaluation, and distributed computing.\n",
      "\n",
      "3. LangChain: LangChain is an open-source NLP framework developed by OpenAI. It is based on the transformer architecture and focuses on chaining together multiple language models to perform complex tasks such as question answering, text summarization, translation, and dialogue systems. LangChain supports a wide range of languages and has been successfully used in various applications across industries.\n",
      "\n",
      "4. LangGraph: LangGraph is an open-source research project focused on graph neural networks (GNNs) for natural language processing tasks. GNNs are a type of deep learning model specifically designed to process graph data structures, which can be useful for modeling complex relationships between words in a sentence or text data. The LangGraph framework provides tools and resources for building and training GNN models on various NLP datasets.\n",
      "\n",
      "In summary, Hugging Face is an AI platform, Ola Maani is an open-source AI toolkit, LangChain is an open-source NLP framework, and LangGraph is a research project focused on graph neural networks in NLP.\n"
     ]
    }
   ],
   "source": [
    "print(ai_msg.content)"
   ]
  },
  {
   "cell_type": "code",
   "execution_count": null,
   "id": "411116fe",
   "metadata": {},
   "outputs": [
    {
     "name": "stderr",
     "output_type": "stream",
     "text": [
      "UsageError: Line magic function `%ollama` not found.\n"
     ]
    }
   ],
   "source": []
  },
  {
   "cell_type": "code",
   "execution_count": null,
   "id": "eb64de6a",
   "metadata": {},
   "outputs": [],
   "source": []
  }
 ],
 "metadata": {
  "kernelspec": {
   "display_name": "hitomi",
   "language": "python",
   "name": "python3"
  },
  "language_info": {
   "codemirror_mode": {
    "name": "ipython",
    "version": 3
   },
   "file_extension": ".py",
   "mimetype": "text/x-python",
   "name": "python",
   "nbconvert_exporter": "python",
   "pygments_lexer": "ipython3",
   "version": "3.13.7"
  }
 },
 "nbformat": 4,
 "nbformat_minor": 5
}
