{
 "cells": [
  {
   "cell_type": "code",
   "execution_count": 1,
   "id": "a346e8bc",
   "metadata": {},
   "outputs": [],
   "source": [
    "import sqlite3\n",
    "\n"
   ]
  },
  {
   "cell_type": "code",
   "execution_count": 3,
   "id": "28b61529",
   "metadata": {},
   "outputs": [],
   "source": [
    "conn = sqlite3.connect(\"../database/mind.db\")\n",
    "cur = conn.cursor()\n"
   ]
  },
  {
   "cell_type": "code",
   "execution_count": 4,
   "id": "80fd8212",
   "metadata": {},
   "outputs": [
    {
     "data": {
      "text/plain": [
       "<sqlite3.Cursor at 0x7f9134ceda40>"
      ]
     },
     "execution_count": 4,
     "metadata": {},
     "output_type": "execute_result"
    }
   ],
   "source": [
    "cur.execute('''\n",
    "CREATE TABLE IF NOT EXISTS Skills(\n",
    "    SkillID INTEGER PRIMARY KEY,\n",
    "    Name TEXT NOT NULL,\n",
    "    CreatedOn TEXT,\n",
    "    TotalTimeSpent INTEGER\n",
    "    );''')\n"
   ]
  },
  {
   "cell_type": "code",
   "execution_count": 6,
   "id": "4804c795",
   "metadata": {},
   "outputs": [
    {
     "data": {
      "text/plain": [
       "<sqlite3.Cursor at 0x7f9134ceda40>"
      ]
     },
     "execution_count": 6,
     "metadata": {},
     "output_type": "execute_result"
    }
   ],
   "source": [
    "cur.execute(\"PRAGMA foreign_keys = ON;\")"
   ]
  },
  {
   "cell_type": "code",
   "execution_count": 7,
   "id": "96a09998",
   "metadata": {},
   "outputs": [
    {
     "data": {
      "text/plain": [
       "<sqlite3.Cursor at 0x7f9134ceda40>"
      ]
     },
     "execution_count": 7,
     "metadata": {},
     "output_type": "execute_result"
    }
   ],
   "source": [
    "cur.execute('''CREATE TABLE IF NOT EXISTS Sessions(\n",
    "    SessionID INTEGER PRIMARY KEY,\n",
    "    SkillID INTEGER,\n",
    "    StartTime TEXT,\n",
    "    EndTime TEXT,\n",
    "    Duration INTEGER,\n",
    "    Notes TEXT,\n",
    "    FOREIGN KEY (SkillID) REFERENCES Skills(SkillID) ON DELETE CASCADE\n",
    "    );''')  \n",
    "    "
   ]
  },
  {
   "cell_type": "code",
   "execution_count": null,
   "id": "66c922d0",
   "metadata": {},
   "outputs": [],
   "source": []
  },
  {
   "cell_type": "code",
   "execution_count": null,
   "id": "1dc1a633",
   "metadata": {},
   "outputs": [],
   "source": [
    "# conn.commit()\n",
    "# conn.close()"
   ]
  },
  {
   "cell_type": "code",
   "execution_count": null,
   "id": "b1ea8cbb",
   "metadata": {},
   "outputs": [],
   "source": []
  }
 ],
 "metadata": {
  "kernelspec": {
   "display_name": "base",
   "language": "python",
   "name": "python3"
  },
  "language_info": {
   "codemirror_mode": {
    "name": "ipython",
    "version": 3
   },
   "file_extension": ".py",
   "mimetype": "text/x-python",
   "name": "python",
   "nbconvert_exporter": "python",
   "pygments_lexer": "ipython3",
   "version": "3.13.2"
  }
 },
 "nbformat": 4,
 "nbformat_minor": 5
}
